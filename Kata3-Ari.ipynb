{
 "cells": [
  {
   "cell_type": "markdown",
   "metadata": {},
   "source": [
    "## Ejercicio 1 Escribir declaraciones if, else y elif"
   ]
  },
  {
   "cell_type": "code",
   "execution_count": 4,
   "metadata": {},
   "outputs": [
    {
     "name": "stdout",
     "output_type": "stream",
     "text": [
      "¡Alerta roja! ¡Un asteroide se acerca a velocidades peligrosas!\n"
     ]
    }
   ],
   "source": [
    "asteroide = 49\n",
    "velocidad= 25\n",
    "if asteroide > velocidad:\n",
    "    print('¡Alerta roja! ¡Un asteroide se acerca a velocidades peligrosas!')\n",
    "else:\n",
    "    print('¡Sigue con tu día!')"
   ]
  },
  {
   "cell_type": "markdown",
   "metadata": {},
   "source": [
    "## Ejercicio 2: "
   ]
  },
  {
   "cell_type": "code",
   "execution_count": 8,
   "metadata": {},
   "outputs": [
    {
     "name": "stdout",
     "output_type": "stream",
     "text": [
      "¡Sin riesgo, nada que ver!\n"
     ]
    }
   ],
   "source": [
    "asteroide= 19\n",
    "if asteroide >= 20 :\n",
    "    print('¡Mira al cielo! ¡Alerta! ¡hay una luz!')\n",
    "else:\n",
    "    print('¡Sin riesgo, nada que ver!')"
   ]
  },
  {
   "cell_type": "markdown",
   "metadata": {},
   "source": [
    "## Ejercicio 3"
   ]
  },
  {
   "cell_type": "code",
   "execution_count": 14,
   "metadata": {},
   "outputs": [
    {
     "name": "stdout",
     "output_type": "stream",
     "text": [
      "¡Mira al cielo! ¡Alerta! ¡hay una luz!\n"
     ]
    }
   ],
   "source": [
    "velocidad_asteroide = 25\n",
    "tamayo_asteroide = 40\n",
    "if velocidad_asteroide > 25 and tamayo_asteroide > 25:\n",
    "    print('¡Alerta roja! ¡Un asteroide se acerca a velocidades peligrosas!')\n",
    "elif velocidad_asteroide >= 20:\n",
    "    print('¡Mira al cielo! ¡Alerta! ¡hay una luz!')\n",
    "elif tamayo_asteroide < 25:\n",
    "    print('¡Sin riesgo, nada que ver! :)')\n",
    "else:\n",
    "    print('¡Sin riesgo, nada que ver!')\n"
   ]
  }
 ],
 "metadata": {
  "interpreter": {
   "hash": "309c837400cd62f137722883369195d330671afa7ca41a075a0a45892acb90e5"
  },
  "kernelspec": {
   "display_name": "Python 3.9.5 64-bit",
   "language": "python",
   "name": "python3"
  },
  "language_info": {
   "codemirror_mode": {
    "name": "ipython",
    "version": 3
   },
   "file_extension": ".py",
   "mimetype": "text/x-python",
   "name": "python",
   "nbconvert_exporter": "python",
   "pygments_lexer": "ipython3",
   "version": "3.9.5"
  },
  "orig_nbformat": 4
 },
 "nbformat": 4,
 "nbformat_minor": 2
}
