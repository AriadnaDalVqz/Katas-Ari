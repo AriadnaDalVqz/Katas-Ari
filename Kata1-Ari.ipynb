{
 "cells": [
  {
   "cell_type": "markdown",
   "metadata": {},
   "source": [
    "## Mostrando la fecha de hoy"
   ]
  },
  {
   "cell_type": "code",
   "execution_count": 1,
   "metadata": {},
   "outputs": [
    {
     "name": "stdout",
     "output_type": "stream",
     "text": [
      "Welcome user aboard\n",
      "Today is : 2022-02-20\n",
      "Good bye! see you soon\n"
     ]
    }
   ],
   "source": [
    "print ('Welcome user aboard')\n",
    "\n",
    "from datetime import date\n",
    "\n",
    "date.today()\n",
    "\n",
    "print (\"Today is : \" + str (date.today()))\n",
    "\n",
    "print ('Good bye! see you soon')"
   ]
  },
  {
   "cell_type": "markdown",
   "metadata": {},
   "source": [
    "## Convertidor de unidades"
   ]
  },
  {
   "cell_type": "code",
   "execution_count": 2,
   "metadata": {},
   "outputs": [
    {
     "name": "stdout",
     "output_type": "stream",
     "text": [
      "11parsec\n",
      "converted to light years is\n",
      "35.877159999999996\n"
     ]
    }
   ],
   "source": [
    "parsec = 11\n",
    "lightyears= 3.26156\n",
    "print(str(parsec)+ \"parsec\" )\n",
    "print(\"converted to light years is\")\n",
    "print (int(parsec) * float (lightyears))"
   ]
  }
 ],
 "metadata": {
  "interpreter": {
   "hash": "309c837400cd62f137722883369195d330671afa7ca41a075a0a45892acb90e5"
  },
  "kernelspec": {
   "display_name": "Python 3.9.5 64-bit",
   "language": "python",
   "name": "python3"
  },
  "language_info": {
   "codemirror_mode": {
    "name": "ipython",
    "version": 3
   },
   "file_extension": ".py",
   "mimetype": "text/x-python",
   "name": "python",
   "nbconvert_exporter": "python",
   "pygments_lexer": "ipython3",
   "version": "3.9.5"
  },
  "orig_nbformat": 4
 },
 "nbformat": 4,
 "nbformat_minor": 2
}
